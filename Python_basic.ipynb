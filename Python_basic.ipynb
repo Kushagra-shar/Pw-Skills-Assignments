{
  "nbformat": 4,
  "nbformat_minor": 0,
  "metadata": {
    "colab": {
      "provenance": []
    },
    "kernelspec": {
      "name": "python3",
      "display_name": "Python 3"
    },
    "language_info": {
      "name": "python"
    }
  },
  "cells": [
    {
      "cell_type": "code",
      "execution_count": null,
      "metadata": {
        "id": "b7U7omTuNXle"
      },
      "outputs": [],
      "source": []
    },
    {
      "cell_type": "markdown",
      "source": [],
      "metadata": {
        "id": "ObrLSuDVJ1Ur"
      }
    },
    {
      "cell_type": "markdown",
      "source": [
        "# Python Basic Question\n",
        "**1. What is Python, and why is it popular?**\n",
        "- Python is a high-level, general-purpose programming language known for its simple and readable syntax. It is popular because it’s beginner-friendly, widely used in fields like web development, data science, AI, and automation, and has a strong community with many available libraries and tools.\n",
        "\n",
        "**2. What is an interpreter in Python?**\n",
        "- An interpreter in Python is a program that reads and executes Python code line by line. It translates human-readable code into machine code during runtime, which makes testing and debugging easier.\n",
        "\n",
        "**3. What are pre-defined keywords in Python?**\n",
        "- Pre-defined keywords are reserved words in Python that have special meaning. Examples include if, else, while, for, and def. These words are part of the Python language and cannot be used for other purposes like naming variables.\n",
        "\n",
        "**4. Can keywords be used as variable names?**\n",
        "- No, keywords cannot be used as variable names because they are reserved for specific language functions. Using them as variable names will result in a syntax error.\n",
        "\n",
        "**5. What is mutability in Python?**\n",
        "- Mutability refers to whether an object can be changed after it is created.\n",
        "\n",
        "**6.Why are lists mutable, but tuples are immutable?**\n",
        "- Lists are mutable, meaning their contents can be modified. Tuples are immutable, so once created, their values cannot be changed. This design helps ensure data integrity when immutability is needed.\n",
        "\n",
        "**7. What is the difference between == and is operators in Python?**\n",
        "- == checks if two values are equal, even if they are stored in different memory locations. is checks if two variables refer to the exact same object in memory.\n",
        "\n",
        "**8. What are logical operators in Python?**\n",
        "- Logical operators are used to combine multiple conditions. Python has three: and, or, and not. They help control the flow of programs based on logical expressions.\n",
        "\n",
        "**9. What is type casting in Python?**\n",
        "- Type casting means converting a value from one data type to another, such as turning a string into an integer. It's useful when different types need to work together in operations.\n",
        "\n",
        "**10. What is the difference between implicit and explicit type casting?**\n",
        "- Implicit casting is done automatically by Python when it safely converts data types. Explicit casting is when the programmer manually converts the type using functions like int(), float(), or str().\n",
        "\n",
        "**11. What is the purpose of conditional statements in Python?**\n",
        "- Conditional statements like if, elif, and else help programs make decisions. They allow the code to run certain blocks only when specific conditions are met.\n",
        "\n",
        "**12. How does the elif statement work?**\n",
        "- elif stands for \"else if\" and is used to check multiple conditions after the initial if statement. If the first condition is false, Python checks the elif conditions in order until one is true.\n",
        "\n",
        "**13. What is the difference between for and while loops?**\n",
        "- A for loop is used when the number of iterations is known or based on a sequence. A while loop is used when the loop should continue until a condition becomes false, regardless of how many times it runs.\n",
        "\n",
        "**14. Describe a scenario where a while loop is more suitable than a for loop.**\n",
        "- A while loop is more suitable when waiting for a user to enter a correct password. You don’t know how many attempts it might take, so the loop continues until the condition (correct password) is met.\n",
        "\n",
        "\n",
        "\n",
        "\n",
        "\n"
      ],
      "metadata": {
        "id": "WG3DjAXVNj-x"
      }
    },
    {
      "cell_type": "code",
      "source": [],
      "metadata": {
        "id": "Qg4GzlcbR9K7"
      },
      "execution_count": null,
      "outputs": []
    },
    {
      "cell_type": "markdown",
      "source": [
        "# Practical Question"
      ],
      "metadata": {
        "id": "NtdikzTiJ6fi"
      }
    },
    {
      "cell_type": "code",
      "source": [
        "#Question 1-Write a Python program to print \"Hello, World!\n",
        "print(\"Hello World\")"
      ],
      "metadata": {
        "colab": {
          "base_uri": "https://localhost:8080/"
        },
        "id": "H5a1QKmsKLfS",
        "outputId": "8d86e550-bc73-46f7-f096-e0874e2d51fd"
      },
      "execution_count": 1,
      "outputs": [
        {
          "output_type": "stream",
          "name": "stdout",
          "text": [
            "Hello World\n"
          ]
        }
      ]
    },
    {
      "cell_type": "code",
      "source": [
        "#Question 2- Write a program that displays your name and age.\n",
        "name=\"Kushagra Sharma\"\n",
        "age=22\n",
        "print(f\"Name-{name}\\nAge-{age}\")"
      ],
      "metadata": {
        "colab": {
          "base_uri": "https://localhost:8080/"
        },
        "id": "NhXe8jnjKkU_",
        "outputId": "0d02f1f7-98dc-40df-abb5-bc8fb4f6aec2"
      },
      "execution_count": 3,
      "outputs": [
        {
          "output_type": "stream",
          "name": "stdout",
          "text": [
            "Name-Kushagra Sharma\n",
            "Age-22\n"
          ]
        }
      ]
    },
    {
      "cell_type": "code",
      "source": [
        "#Question 3- Write code to print all the pre-defined keywords in Python using the keyword library.\n",
        "import keyword\n",
        "print(keyword.kwlist)"
      ],
      "metadata": {
        "colab": {
          "base_uri": "https://localhost:8080/"
        },
        "id": "eebunLZqLrzm",
        "outputId": "b09f42b0-5c62-4168-8c48-00c934d1f53a"
      },
      "execution_count": 4,
      "outputs": [
        {
          "output_type": "stream",
          "name": "stdout",
          "text": [
            "['False', 'None', 'True', 'and', 'as', 'assert', 'async', 'await', 'break', 'class', 'continue', 'def', 'del', 'elif', 'else', 'except', 'finally', 'for', 'from', 'global', 'if', 'import', 'in', 'is', 'lambda', 'nonlocal', 'not', 'or', 'pass', 'raise', 'return', 'try', 'while', 'with', 'yield']\n"
          ]
        }
      ]
    },
    {
      "cell_type": "code",
      "source": [
        "#Question 4- Write a program that checks if a given word is a Python keyword.\n",
        "import keyword\n",
        "word = input(\"Enter a word: \")\n",
        "if keyword.iskeyword(word):\n",
        "    print(f\"'{word}' is a Python keyword.\")\n",
        "else:\n",
        "    print(f\"'{word}' is NOT a Python keyword.\")\n"
      ],
      "metadata": {
        "colab": {
          "base_uri": "https://localhost:8080/"
        },
        "id": "DSHF-hvmM5g6",
        "outputId": "9b9e2646-a111-4b67-8459-c24d4ad804be"
      },
      "execution_count": 5,
      "outputs": [
        {
          "output_type": "stream",
          "name": "stdout",
          "text": [
            "Enter a word: Apple\n",
            "'Apple' is NOT a Python keyword.\n"
          ]
        }
      ]
    },
    {
      "cell_type": "code",
      "source": [
        "#Question 5-Create a list and tuple in Python, and demonstrate how attempting to change an element works differently for each\n",
        "my_list = [1, 2, 3]\n",
        "my_tuple = (1, 2, 3)\n",
        "my_list[0] = 10\n",
        "print(\"List after change:\", my_list)\n",
        "my_tuple[0] = 10  # This line will cause a TypeError"
      ],
      "metadata": {
        "colab": {
          "base_uri": "https://localhost:8080/",
          "height": 200
        },
        "id": "rQA1q6fmOEhS",
        "outputId": "a95bf04f-50a9-4233-cd2e-1a8163611106"
      },
      "execution_count": 6,
      "outputs": [
        {
          "output_type": "stream",
          "name": "stdout",
          "text": [
            "List after change: [10, 2, 3]\n"
          ]
        },
        {
          "output_type": "error",
          "ename": "TypeError",
          "evalue": "'tuple' object does not support item assignment",
          "traceback": [
            "\u001b[0;31m---------------------------------------------------------------------------\u001b[0m",
            "\u001b[0;31mTypeError\u001b[0m                                 Traceback (most recent call last)",
            "\u001b[0;32m/tmp/ipython-input-6-3615328742.py\u001b[0m in \u001b[0;36m<cell line: 0>\u001b[0;34m()\u001b[0m\n\u001b[1;32m      4\u001b[0m \u001b[0mmy_list\u001b[0m\u001b[0;34m[\u001b[0m\u001b[0;36m0\u001b[0m\u001b[0;34m]\u001b[0m \u001b[0;34m=\u001b[0m \u001b[0;36m10\u001b[0m\u001b[0;34m\u001b[0m\u001b[0;34m\u001b[0m\u001b[0m\n\u001b[1;32m      5\u001b[0m \u001b[0mprint\u001b[0m\u001b[0;34m(\u001b[0m\u001b[0;34m\"List after change:\"\u001b[0m\u001b[0;34m,\u001b[0m \u001b[0mmy_list\u001b[0m\u001b[0;34m)\u001b[0m\u001b[0;34m\u001b[0m\u001b[0;34m\u001b[0m\u001b[0m\n\u001b[0;32m----> 6\u001b[0;31m \u001b[0mmy_tuple\u001b[0m\u001b[0;34m[\u001b[0m\u001b[0;36m0\u001b[0m\u001b[0;34m]\u001b[0m \u001b[0;34m=\u001b[0m \u001b[0;36m10\u001b[0m  \u001b[0;31m# This line will cause a TypeError\u001b[0m\u001b[0;34m\u001b[0m\u001b[0;34m\u001b[0m\u001b[0m\n\u001b[0m",
            "\u001b[0;31mTypeError\u001b[0m: 'tuple' object does not support item assignment"
          ]
        }
      ]
    },
    {
      "cell_type": "code",
      "source": [
        "#Question 6-Write a function to demonstrate the behavior of mutable and immutable arguments.\n",
        "# Immutable example\n",
        "x = 5\n",
        "a = x\n",
        "a = a + 1\n",
        "print(\"x (immutable):\", x)\n",
        "\n",
        "# Mutable example\n",
        "y = [1, 2, 3]\n",
        "b = y\n",
        "b.append(4)\n",
        "print(\"y (mutable):\", y)\n",
        "\n"
      ],
      "metadata": {
        "colab": {
          "base_uri": "https://localhost:8080/"
        },
        "id": "uv6cwGidPBrJ",
        "outputId": "de8e3749-5c09-4a3e-b04c-6465fba75498"
      },
      "execution_count": 7,
      "outputs": [
        {
          "output_type": "stream",
          "name": "stdout",
          "text": [
            "x (immutable): 5\n",
            "y (mutable): [1, 2, 3, 4]\n"
          ]
        }
      ]
    },
    {
      "cell_type": "code",
      "source": [
        "#Question 7-Write a program that performs basic arithmetic operations on two user-input numbers.\n",
        "number_1=int(input(\"Please Enter Number 1:\"))\n",
        "number_2=int(input(\"Please enter Number 2:\"))\n",
        "print(f\"Sum of {number_1} and {number_2} is {number_1 + number_2}\")\n",
        "print(f\"Subtraction of {number_1} and {number_2} is {number_1 - number_2}\")\n",
        "print(f\"Multiplication of {number_1} and {number_2} is {number_1 * number_2}\")\n",
        "print(f\"Division of {number_1} and {number_2} is {number_1 / number_2}\")"
      ],
      "metadata": {
        "colab": {
          "base_uri": "https://localhost:8080/"
        },
        "id": "fry7wwLAQFpx",
        "outputId": "b2885190-7775-4eb1-c0e4-112c13e57d07"
      },
      "execution_count": 11,
      "outputs": [
        {
          "output_type": "stream",
          "name": "stdout",
          "text": [
            "Please Enter Number 1:7\n",
            "Please enter Number 2:9\n",
            "Sum of 7 and 9 is 16\n",
            "Subtraction of 7 and 9 is -2\n",
            "Multiplication of 7 and 9 is 63\n",
            "Division of 7 and 9 is 0.7777777777777778\n"
          ]
        }
      ]
    },
    {
      "cell_type": "code",
      "source": [
        "#Question 8-Write a program to demonstrate the use of logical operators.\n",
        "a = True\n",
        "b = False\n",
        "\n",
        "print(\"a and b:\", a and b)\n",
        "print(\"a or b:\", a or b)\n",
        "print(\"not a:\", not a)"
      ],
      "metadata": {
        "colab": {
          "base_uri": "https://localhost:8080/"
        },
        "id": "9h9wSMLbSTjb",
        "outputId": "3d15473c-3be7-4b81-f0d0-6bd3c4f305d7"
      },
      "execution_count": 12,
      "outputs": [
        {
          "output_type": "stream",
          "name": "stdout",
          "text": [
            "a and b: False\n",
            "a or b: True\n",
            "not a: False\n"
          ]
        }
      ]
    },
    {
      "cell_type": "code",
      "source": [
        "#Question 9- Write a Python program to convert user input from string to integer, float, and boolean types.\n",
        "value = \"10\"\n",
        "int_value = int(value)\n",
        "print(\"As integer:\", int_value)\n",
        "float_value = float(value)\n",
        "print(\"As float:\", float_value)\n",
        "bool_value = bool(value)\n",
        "print(\"As boolean:\", bool_value)\n"
      ],
      "metadata": {
        "colab": {
          "base_uri": "https://localhost:8080/"
        },
        "id": "IKmZYLVhTNh2",
        "outputId": "2d3632de-bec0-4819-85b8-f78ca64a76ec"
      },
      "execution_count": 13,
      "outputs": [
        {
          "output_type": "stream",
          "name": "stdout",
          "text": [
            "As integer: 10\n",
            "As float: 10.0\n",
            "As boolean: True\n"
          ]
        }
      ]
    },
    {
      "cell_type": "code",
      "source": [
        "#Question 10-Write code to demonstrate type casting with list elements.\n",
        "str_list = [\"1\", \"2\", \"3\"]\n",
        "int_list = [int(x) for x in str_list]\n",
        "print(\"As integers:\", int_list)\n",
        "float_list = [float(x) for x in str_list]\n",
        "print(\"As floats:\", float_list)\n",
        "bool_list = [bool(x) for x in str_list]\n",
        "print(\"As booleans:\", bool_list)\n"
      ],
      "metadata": {
        "colab": {
          "base_uri": "https://localhost:8080/"
        },
        "id": "ZnZyFtKAT59K",
        "outputId": "616efd6b-a47a-4f6c-8a76-7c4ab5138b82"
      },
      "execution_count": 14,
      "outputs": [
        {
          "output_type": "stream",
          "name": "stdout",
          "text": [
            "As integers: [1, 2, 3]\n",
            "As floats: [1.0, 2.0, 3.0]\n",
            "As booleans: [True, True, True]\n"
          ]
        }
      ]
    },
    {
      "cell_type": "code",
      "source": [
        "#Question 11- Write a program that checks if a number is positive, negative, or zero.\n",
        "number = -5\n",
        "if number > 0:\n",
        "    print(\"Positive\")\n",
        "elif number < 0:\n",
        "    print(\"Negative\")\n",
        "else:\n",
        "    print(\"Zero\")"
      ],
      "metadata": {
        "colab": {
          "base_uri": "https://localhost:8080/"
        },
        "id": "3UAj7eU9Ul6j",
        "outputId": "81c564e6-4ee1-44e8-9c2b-01437b19ef00"
      },
      "execution_count": 15,
      "outputs": [
        {
          "output_type": "stream",
          "name": "stdout",
          "text": [
            "Negative\n"
          ]
        }
      ]
    },
    {
      "cell_type": "code",
      "source": [
        "#Question 12-Write a for loop to print numbers from 1 to 10.\n",
        "for i in range(1,11):\n",
        "  print(i)"
      ],
      "metadata": {
        "colab": {
          "base_uri": "https://localhost:8080/"
        },
        "id": "qI5edrccV0tu",
        "outputId": "885a074d-d09d-442c-e0da-962d51368917"
      },
      "execution_count": 17,
      "outputs": [
        {
          "output_type": "stream",
          "name": "stdout",
          "text": [
            "1\n",
            "2\n",
            "3\n",
            "4\n",
            "5\n",
            "6\n",
            "7\n",
            "8\n",
            "9\n",
            "10\n"
          ]
        }
      ]
    },
    {
      "cell_type": "code",
      "source": [
        "#Question 13- Write a Python program to find the sum of all even numbers between 1 and 50.\n",
        "total = 0\n",
        "\n",
        "for num in range(1, 51):\n",
        "    if num % 2 == 0:\n",
        "        total += num\n",
        "\n",
        "print(\"Sum of even numbers from 1 to 50 is:\", total)\n"
      ],
      "metadata": {
        "colab": {
          "base_uri": "https://localhost:8080/"
        },
        "id": "zRJZRSa9WQDa",
        "outputId": "f3569809-cf22-44a3-c6ae-fa047fbb0405"
      },
      "execution_count": 18,
      "outputs": [
        {
          "output_type": "stream",
          "name": "stdout",
          "text": [
            "Sum of even numbers from 1 to 50 is: 650\n"
          ]
        }
      ]
    },
    {
      "cell_type": "code",
      "source": [
        "#Question 14- Write a program to reverse a string using a while loop.\n",
        "text = \"hello\"\n",
        "reversed_text = \"\"\n",
        "i = len(text) - 1\n",
        "while i >= 0:\n",
        "    reversed_text += text[i]\n",
        "    i -= 1\n",
        "\n",
        "print(\"Reversed string:\", reversed_text)\n"
      ],
      "metadata": {
        "colab": {
          "base_uri": "https://localhost:8080/"
        },
        "id": "YCJtcnKDY-E4",
        "outputId": "be87697c-c0bf-4a56-82c3-75ff5fc188ed"
      },
      "execution_count": 19,
      "outputs": [
        {
          "output_type": "stream",
          "name": "stdout",
          "text": [
            "Reversed string: olleh\n"
          ]
        }
      ]
    },
    {
      "cell_type": "code",
      "source": [
        "#Question 15- Write a Python program to calculate the factorial of a number provided by the user using a while loop.\n",
        "number = int(input(\"Enter a number: \"))\n",
        "factorial = 1\n",
        "i = 1\n",
        "\n",
        "while i <= number:\n",
        "    factorial *= i\n",
        "    i += 1\n",
        "\n",
        "print(\"Factorial of\", number, \"is\", factorial)\n"
      ],
      "metadata": {
        "colab": {
          "base_uri": "https://localhost:8080/"
        },
        "id": "HeWgccwTZPUP",
        "outputId": "3134aaf8-a60f-43b7-97f1-5126d77f3e9f"
      },
      "execution_count": 20,
      "outputs": [
        {
          "output_type": "stream",
          "name": "stdout",
          "text": [
            "Enter a number: 7\n",
            "Factorial of 7 is 5040\n"
          ]
        }
      ]
    }
  ]
}