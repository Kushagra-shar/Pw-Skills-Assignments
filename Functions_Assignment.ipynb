{
  "nbformat": 4,
  "nbformat_minor": 0,
  "metadata": {
    "colab": {
      "provenance": []
    },
    "kernelspec": {
      "name": "python3",
      "display_name": "Python 3"
    },
    "language_info": {
      "name": "python"
    }
  },
  "cells": [
    {
      "cell_type": "markdown",
      "source": [
        "**Theory Questions**"
      ],
      "metadata": {
        "id": "2_Nq_Fq0kErU"
      }
    },
    {
      "cell_type": "markdown",
      "source": [
        "1.What is the difference between a function and a method in Python?\n",
        "- A function is an independent block of code, while a method is a function associated with an object.\n",
        "Example: len(\"Hello\") is a function; \"Hello\".upper() is a method.\n",
        "\n",
        "2.Explain the concept of function arguments and parameters in Python.\n",
        "- Parameters are variables in function definitions, while arguments are actual values passed to the function.\n",
        "\n",
        "3.What are the different ways to define and call a function in Python?\n",
        "- Functions can be defined using def or lambda, and called by their name with parentheses.\n",
        "Example: def add(a, b): return a + b; add(2, 3)\n",
        "\n",
        "4.What is the purpose of the return statement in a Python function?\n",
        "- The return statement sends a value back from a function to the caller.\n",
        "Example: def square(x): return x * x returns the square of a number.\n",
        "\n",
        "5.What are iterators in Python and how do they differ from iterables?\n",
        "- Iterators implement __next__() and __iter__(); iterables are objects that can return an iterator.\n",
        "Example: A list is iterable, but iter(list) gives an iterator.\n",
        "\n",
        "6.Explain the concept of generators in Python and how they are defined.\n",
        "- Generators are functions that yield values using the yield keyword instead of return, producing items one at a time.\n",
        "Example: def gen(): yield 1; yield 2\n",
        "\n",
        "7.What are the advantages of using generators over regular functions?\n",
        "- Generators use less memory and are more efficient for large data sets since they yield values lazily.\n",
        "Example: Reading large files line-by-line using a generator.\n",
        "\n",
        "8.What is a lambda function in Python and when is it typically used?\n",
        "- A lambda function is an anonymous function used for short, throwaway operations.\n",
        "Example: lambda x: x * 2\n",
        "\n",
        "9.Explain the purpose and usage of the map() function in Python.\n",
        "- map() applies a function to all items in an iterable and returns a map object.\n",
        "Example: map(str.upper, ['a', 'b']) → ['A', 'B']\n",
        "\n",
        "10.What is the difference between map(), reduce(), and filter() functions in Python?\n",
        "- map() transforms items, filter() selects items, reduce() aggregates them.\n",
        "Example:\n",
        "\n",
        "map(lambda x: x*2, [1,2]) → [2,4]\n",
        "\n",
        "filter(lambda x: x%2==0, [1,2,3]) → [2]\n",
        "\n",
        "reduce(lambda x,y: x+y, [1,2,3]) → 6"
      ],
      "metadata": {
        "id": "uLSGYj_mkJPD"
      }
    },
    {
      "cell_type": "markdown",
      "source": [
        "**Practical Question**"
      ],
      "metadata": {
        "id": "afxXzMmAmUaS"
      }
    },
    {
      "cell_type": "code",
      "source": [
        "# Question 1 Write a Python function that takes a list of numbers as input and returns the sum of all even numbers in the list.\n",
        "def sum_even_numbers(numbers):\n",
        "    sum = 0\n",
        "    for num in numbers:\n",
        "        if num % 2 == 0:\n",
        "            sum += num\n",
        "    return sum\n"
      ],
      "metadata": {
        "id": "GnHdRbA6mawb"
      },
      "execution_count": null,
      "outputs": []
    },
    {
      "cell_type": "code",
      "source": [
        "# Question 2 Create a Python function that accepts a string and returns the reverse of that string.\n",
        "def reverse_string(string):\n",
        "    return string[::-1]"
      ],
      "metadata": {
        "id": "pk1rGQWmm3I9"
      },
      "execution_count": null,
      "outputs": []
    },
    {
      "cell_type": "code",
      "source": [
        "''' Question 3 Implement a Python function that takes a list of integers and returns a new list containing the squares of\n",
        "each number.'''\n",
        "def square_numbers(numbers):\n",
        "    squares = []\n",
        "    for num in numbers:\n",
        "        squares.append(num ** 2)\n",
        "    return squares"
      ],
      "metadata": {
        "id": "JCHUMPGTm5OZ"
      },
      "execution_count": null,
      "outputs": []
    },
    {
      "cell_type": "code",
      "source": [
        "# Question 4 Write a Python function that checks if a given number is prime or not from 1 to 200.\n",
        "def is_prime(number):\n",
        "    if number < 2:\n",
        "        return False\n",
        "    for i in range(2, int(number ** 0.5) + 1):\n",
        "        if number % i == 0:\n",
        "            return False\n",
        "    return True"
      ],
      "metadata": {
        "id": "Gsw-KPycm-Fd"
      },
      "execution_count": 4,
      "outputs": []
    },
    {
      "cell_type": "code",
      "source": [
        "'''Question 5  Create an iterator class in Python that generates the Fibonacci sequence up to a specified number of\n",
        "terms.'''\n",
        "class FibonacciIterator:\n",
        "    def __init__(self, n):\n",
        "        self.n = n\n",
        "        self.a = 0\n",
        "        self.b = 1"
      ],
      "metadata": {
        "id": "0KplGLeem_Jv"
      },
      "execution_count": null,
      "outputs": []
    },
    {
      "cell_type": "code",
      "source": [
        "# Question 6 Write a generator function in Python that yields the powers of 2 up to a given exponent.\n",
        "def power_of_two(n):\n",
        "    for i in range(n):\n",
        "        yield 2 ** i"
      ],
      "metadata": {
        "id": "hv9SXsMInAPO"
      },
      "execution_count": null,
      "outputs": []
    },
    {
      "cell_type": "code",
      "source": [
        "# Question 7 Implement a generator function that reads a file line by line and yields each line as a string.\n",
        "def read_file_lines(filename):\n",
        "    with open(filename, 'r') as file:\n",
        "        for line in file:\n",
        "            yield line.strip()"
      ],
      "metadata": {
        "id": "3Qcoki4dnA51"
      },
      "execution_count": null,
      "outputs": []
    },
    {
      "cell_type": "code",
      "source": [
        "# Question 8 Use a lambda function in Python to sort a list of tuples based on the second element of each tuple.\n",
        "def sort_tuples(tuples):\n",
        "    return sorted(tuples, key=lambda x: x[1])"
      ],
      "metadata": {
        "id": "gcJx6FO8nBdt"
      },
      "execution_count": 3,
      "outputs": []
    },
    {
      "cell_type": "code",
      "source": [
        "# Question 9  Write a Python program that uses `map()` to convert a list of temperatures from Celsius to Fahrenheit.\n",
        "def celsius_to_fahrenheit(celsius):\n",
        "    return (celsius * 9/5) + 32"
      ],
      "metadata": {
        "id": "nFOw-rvQoH_O"
      },
      "execution_count": 2,
      "outputs": []
    },
    {
      "cell_type": "code",
      "source": [
        "# Question 10  Create a Python program that uses `filter()` to remove all the vowels from a given string.\n",
        "def remove_vowels(input_str):\n",
        "    vowels = 'aeiouAEIOU'\n",
        "    return ''.join(filter(lambda char: char not in vowels, input_str))"
      ],
      "metadata": {
        "id": "XlwL37CmoIOq"
      },
      "execution_count": 5,
      "outputs": []
    }
  ]
}