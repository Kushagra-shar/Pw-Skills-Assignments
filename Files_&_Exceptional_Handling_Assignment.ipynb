{
  "nbformat": 4,
  "nbformat_minor": 0,
  "metadata": {
    "colab": {
      "provenance": []
    },
    "kernelspec": {
      "name": "python3",
      "display_name": "Python 3"
    },
    "language_info": {
      "name": "python"
    }
  },
  "cells": [
    {
      "cell_type": "markdown",
      "source": [],
      "metadata": {
        "id": "bcwrA7obFMeO"
      }
    },
    {
      "cell_type": "markdown",
      "source": [
        "**Theory Questions**"
      ],
      "metadata": {
        "id": "Jx9njd84FO9O"
      }
    },
    {
      "cell_type": "markdown",
      "source": [
        "1. What is the difference between interpreted and compiled languages?\n",
        "- Interpreted execute code line by line where as compiled language interpreted entire script into machine code and then execute.\n",
        "2. What is exception handling in Python?\n",
        "- exception Handling is a process of catching and responding the errors during runtime.It uses blocks like try: ,except: ,finnaly: ,else:\n",
        "3. What is the purpose of the finally block inexception handling?\n",
        "- Finnaly block is used in exception handling .it make sure the code run even after the exception.usually it is used for finishing or closing the code or realising the language.\n",
        "\n",
        "4. What is logging in Python?\n",
        "- Logging records messeage of code execution for auditing.logging give much better control then normal print statement\n",
        "\n",
        "5. What is the significance of the __del__ method in Python?\n",
        "- __del__ methord is a distructor which is called for distroying an object.This is used for realising the resources optimally.\n",
        "\n",
        "6. What is the difference between import and from ... import in Python?\n",
        "import provide acsses to whole module on the other hand from import allow acsses to the spesific item or function of module.\n",
        "\n",
        "7. How can you handle multiple exceptions in Python?\n",
        "_There are Two Ways either by using tuple for multiple except or using multiple except block\n",
        "\n",
        "8. What is the purpose of the with statement when handling files in Python?\n",
        "_The purpouse of the with statmet is to automatically close the file without writting seperate line for it. As with allows to close the file optimally even with exception\n",
        "\n",
        "9. What is the difference between multithreading and multiprocessing?\n",
        "- Multithreding process threads by sharing the storage. on the other hand mulitiprocessing dose not use GUI i takes more storage.\n",
        "\n",
        "10. What are the advantages of using logging in a program?\n",
        "- As logging use blocks to handle diffrent types of messeage.Blocks like(DEBUG ,INFO,WARNING,ERROR,CRITICAL) which is optimum for recording ann auditing,logs can be saved and represented by file,curore etc\n",
        "\n",
        "11. What is memory management in Python?\n",
        "- Python manage memory automaticaly vai refrence counting and garbage collection  it take cares the allocation and deallocation behind the sceans.\n",
        "\n",
        "12. What are the basic steps involved in exception handling in Python?\n",
        "- Basic Steps involve in exception handling is raping risky code in try: block then catching error and managing it trough except: block and use optional blocks such as finally and else.\n",
        "\n",
        "13. Why is memory management important in Python?\n",
        "- Memory Managment insures no mememory leaks and optimum usage of system resorces.Poor managment will lead to degarded perfomance ansd memory leaks.\n",
        "\n",
        "14. What is the role of try and except in exception handling?\n",
        "- The primary role for try is to run the code which is at the risk of rasing errors and except block's duty is to catch the raised error and handel it properlly so code dosent breaks unexpectlly.\n",
        "15. How does Python's garbage collection system work?\n",
        "- Garbage collection deallocate the unsued object using refrence counting so that system resorses dosent get wasted.\n",
        "\n",
        "16. What is the purpose of the else block in exception handling?\n",
        "- The purpous of else block is to run whhen no exception is raised.\n",
        "\n",
        "17. What are the common logging levels in Python?\n",
        "- The commen logging levels are as follow - (DEBUG ,INFO,WARNING,ERROR,CRITICAL)\n",
        "they also represent the im portance of mmeasge eg- Debug have the least importaance and Critical have the most importance.\n",
        "18.What is the difference between os.fork() and multiprocessing in Python?\n",
        "\n",
        "19. What is the importance of closing a file in Python?\n",
        "- It is very crutial to close the file or else it can lead data leaks or data can be corrupted.\n",
        "\n",
        "20. What is the difference between file.read() and file.readline() in Python?\n",
        "-file.read() reads the file as a single String on the other hand file.readline() reads the file line by line.\n",
        "\n",
        "21. What is the logging module in Python used for?\n",
        "- Logging module in the python is used for tracking the changes in the code ,communicating the changes and auditing the code as big production level codes are written by teams and code is continuselly changes so without looging it is possible to losee track of code.\n",
        "\n",
        "22.What is the os module in Python used for in file handling?\n",
        "- As os module directlly comunicate with your local divice operating systeum .so it is used to manage files handling  by managing file locations it also help in creating directorys etc\n",
        "\n",
        "23. What are the challenges associated with memory management in Python?\n",
        "\n",
        "24.  How do you raise an exception manually in Python?\n",
        "- Through raise keyword after except block.\n",
        "\n",
        "25.Why is it important to use multithreading in certain applications?\n"
      ],
      "metadata": {
        "id": "P_7GB1vJHbsK"
      }
    },
    {
      "cell_type": "markdown",
      "source": [
        "**Practical Question**"
      ],
      "metadata": {
        "id": "jpDl7IkBI2g6"
      }
    },
    {
      "cell_type": "code",
      "source": [
        "# 1.How can you open a file for writing in Python and write a string to it?\n",
        "user_input=input(\"Please Enter The Name of the File:\")\n",
        "with open(f\"{user_input}.txt\",\"a\") as f:\n",
        "  f.write(\"Hellow World!\\nI have create a file\")\n",
        "  print(\"The File has been created\")\n",
        "\n"
      ],
      "metadata": {
        "colab": {
          "base_uri": "https://localhost:8080/"
        },
        "id": "EZSreZPOI96C",
        "outputId": "59bea532-4732-4a21-e1e6-b0df9dd74156"
      },
      "execution_count": null,
      "outputs": [
        {
          "output_type": "stream",
          "name": "stdout",
          "text": [
            "Please Enter The Name of the File:pw_skills_trial_file\n",
            "The File has been created\n"
          ]
        }
      ]
    },
    {
      "cell_type": "code",
      "source": [
        "#2.Write a Python program to read the contents of a file and print each line.\n",
        "with open (\"pw_skills_trial_file.txt\",\"r\") as f:\n",
        "    content=f.readlines()\n",
        "    print(f\"Here is the content of the file:---\")\n",
        "    for i in content:\n",
        "        print(i,end='')"
      ],
      "metadata": {
        "colab": {
          "base_uri": "https://localhost:8080/"
        },
        "id": "6pA-fAMYN9CV",
        "outputId": "f67fc49e-e669-4ac3-cb59-480f18fc6655"
      },
      "execution_count": null,
      "outputs": [
        {
          "output_type": "stream",
          "name": "stdout",
          "text": [
            "Here is the content of the file:---\n",
            "Hellow World!\n",
            "I have create a file"
          ]
        }
      ]
    },
    {
      "cell_type": "code",
      "source": [
        "#3.How would you handle a case where the file doesn't exist while trying to open it for reading?\n",
        "try:\n",
        "    file_name=input(\"Please Enter Valid File Name:\")\n",
        "    with open(f\"{file_name}.txt\",\"r\") as f:\n",
        "        content=f.read()\n",
        "    print(f\"Here is the file content-----{content}\")\n",
        "except FileNotFoundError as e:\n",
        "    print(f\"Please enter a Valid File Name {e}\")"
      ],
      "metadata": {
        "colab": {
          "base_uri": "https://localhost:8080/"
        },
        "id": "XuVpcCUHRT3o",
        "outputId": "c0ebc283-f3da-45e1-fd43-a8da8c89936b"
      },
      "execution_count": null,
      "outputs": [
        {
          "output_type": "stream",
          "name": "stdout",
          "text": [
            "Please Enter Valid File Name:kkkajhdh\n",
            "Please enter a Valid File Name [Errno 2] No such file or directory: 'kkkajhdh.txt'\n"
          ]
        }
      ]
    },
    {
      "cell_type": "code",
      "source": [
        "#4.Write a Python script that reads from one file and writes its content to another file.\n",
        "# src file\n",
        "with open(\"pw_skills_trial_file.txt\",\"r\") as f:\n",
        "    content=f.read()\n",
        "# dec file\n",
        "with open(\"Destination_File.txt\",\"a\")as f :\n",
        "    f.write(f\"{content}\")\n",
        "\n",
        "print(\"Data Transfer is Completed\")"
      ],
      "metadata": {
        "colab": {
          "base_uri": "https://localhost:8080/"
        },
        "id": "HlSXyNxvRUMP",
        "outputId": "143ffda8-5d9e-4262-c4fa-22dd3d5b40dd"
      },
      "execution_count": null,
      "outputs": [
        {
          "output_type": "stream",
          "name": "stdout",
          "text": [
            "Data Transfer is Completed\n"
          ]
        }
      ]
    },
    {
      "cell_type": "code",
      "source": [
        "#5.How would you catch and handle division by zero error in Python?\n",
        "\n",
        "num1=int(input(\"Please Enter Numerator:\"))\n",
        "num2=int(input(\"Please Enter Denominator:\"))\n",
        "try:\n",
        "    print(num1/num2)\n",
        "except ZeroDivisionError:\n",
        "    print(\"You Cannot Divide a Numbere with Zero\")\n"
      ],
      "metadata": {
        "colab": {
          "base_uri": "https://localhost:8080/"
        },
        "id": "Ea0Z65aSRUfn",
        "outputId": "1a13cbf3-115f-426d-9915-904617febcb5"
      },
      "execution_count": null,
      "outputs": [
        {
          "output_type": "stream",
          "name": "stdout",
          "text": [
            "Please Enter Numerator:7\n",
            "Please Enter Denominator:0\n",
            "You Cannot Divide a Numbere with Zero\n"
          ]
        }
      ]
    },
    {
      "cell_type": "code",
      "source": [
        "#6.Write a Python program that logs an error message to a log file when a division by zero exception occurs.\n",
        "import logging\n",
        "logging.basicConfig(filename=\"ass.log\",level=logging.DEBUG,format='%(asctime)s - %(levelname)s - %(message)s')\n",
        "try:\n",
        "    user_input_1=int(input(\"Please enter a Numerator:\"))\n",
        "    user_input_2=int(input(\"Please enter a Denominator:\"))\n",
        "    print(f\"{user_input_1}/{user_input_2}={user_input_1/user_input_2}\")\n",
        "except ZeroDivisionError as e:\n",
        "    logging.error(e)\n",
        "    print(e)\n",
        "\n",
        "print(\"ERROR HAS BEEN LOGGED\")"
      ],
      "metadata": {
        "id": "4NeuyJx-RUmf",
        "colab": {
          "base_uri": "https://localhost:8080/"
        },
        "outputId": "d23dffe6-8ecb-4690-f0c5-367133109027"
      },
      "execution_count": null,
      "outputs": [
        {
          "name": "stdout",
          "output_type": "stream",
          "text": [
            "Please enter a Numerator:5\n",
            "Please enter a Denominator:0\n"
          ]
        },
        {
          "output_type": "stream",
          "name": "stderr",
          "text": [
            "ERROR:root:division by zero\n"
          ]
        },
        {
          "output_type": "stream",
          "name": "stdout",
          "text": [
            "division by zero\n",
            "ERROR HAS BEEN LOGGED\n"
          ]
        }
      ]
    },
    {
      "cell_type": "code",
      "source": [
        "#7.How do you log information at different levels (INFO, ERROR, WARNING) in Python using the logging module?\n",
        "import logging\n",
        "logging.basicConfig(filename=\"ass.log\",level=logging.DEBUG,format='%(asctime)s - %(levelname)s - %(message)s')\n",
        "\n",
        "\n",
        "logging.debug(\"Please Debug this part of code\")\n",
        "logging.info(\"General Info \")\n",
        "logging.warning(\"Some Kind of warrning\")\n",
        "logging.error(\"There is an Error\")\n",
        "logging.critical(\"Code is Crashing\")\n",
        "\n",
        "print(\"All the Info is Logged\")\n"
      ],
      "metadata": {
        "id": "wLnvBYofWjPo"
      },
      "execution_count": null,
      "outputs": []
    },
    {
      "cell_type": "code",
      "source": [
        "#8.Write a program to handle a file opening error using exception handling.\n",
        "import logging\n",
        "\n",
        "logging.basicConfig(\n",
        "    filename=\"pwskills.log\",\n",
        "    level=logging.DEBUG,\n",
        "    format='%(asctime)s - %(levelname)s - %(message)s'\n",
        ")\n",
        "\n",
        "try:\n",
        "    user_input = input(\"Please Enter Name of File: \")\n",
        "    with open(user_input, \"r\") as f:\n",
        "        content = f.read()\n",
        "        print(content)\n",
        "except FileNotFoundError:\n",
        "    logging.error(\"Please Enter Valid File Name\")\n",
        "    print(\"Please Enter Valid File Name\")\n"
      ],
      "metadata": {
        "id": "FQ2TTRK-Ww47",
        "colab": {
          "base_uri": "https://localhost:8080/"
        },
        "outputId": "aa347cbc-f943-4aef-9da3-3543171f4da0"
      },
      "execution_count": null,
      "outputs": [
        {
          "name": "stdout",
          "output_type": "stream",
          "text": [
            "Please Enter Name of File: abc\n"
          ]
        },
        {
          "output_type": "stream",
          "name": "stderr",
          "text": [
            "ERROR:root:Please Enter Valid File Name\n"
          ]
        },
        {
          "output_type": "stream",
          "name": "stdout",
          "text": [
            "Please Enter Valid File Name\n"
          ]
        }
      ]
    },
    {
      "cell_type": "code",
      "source": [
        "#9.How can you read a file line by line and store its content in a list in Python?\n",
        "with open (\"pw_skills_trial_file.txt\",\"r\") as f:\n",
        "  content=f.readlines()\n",
        "  print(content)"
      ],
      "metadata": {
        "colab": {
          "base_uri": "https://localhost:8080/"
        },
        "id": "FRW0TfcrWxwT",
        "outputId": "8526d3fe-5f58-4e61-ca76-cc27da77a829"
      },
      "execution_count": null,
      "outputs": [
        {
          "output_type": "stream",
          "name": "stdout",
          "text": [
            "['Hellow World!\\n', 'I have create a file']\n"
          ]
        }
      ]
    },
    {
      "cell_type": "code",
      "source": [
        "from os import write\n",
        "#10.How can you append data to an existing file in Python?\n",
        "with open(\"pw_skills_trial_file.txt\",\"a+\") as f:\n",
        "  f.write(\"\\nI Have completed question 10 by appending this line\")\n",
        "  print(\"Data has been appended\")\n",
        "  f.seek(0)\n",
        "  print(f.read())"
      ],
      "metadata": {
        "colab": {
          "base_uri": "https://localhost:8080/"
        },
        "id": "hvkDu51cWxbK",
        "outputId": "74646399-6e48-42a1-c136-09eb0e79a592"
      },
      "execution_count": null,
      "outputs": [
        {
          "output_type": "stream",
          "name": "stdout",
          "text": [
            "Data has been appended\n",
            "Hellow World!\n",
            "I have create a file\n",
            "I Have completed question 10 by appending this line\n"
          ]
        }
      ]
    },
    {
      "cell_type": "code",
      "source": [
        "#11. Write a Python program that uses a try-except block to handle an error when attempting to access a\n",
        "#dictionary key that doesn't exist.\n",
        "data_dict = {\n",
        "    \"Name\": \"Kushagra\",\n",
        "    \"Surname\": \"Sharma\",\n",
        "    \"Phone No\": 50223125647,\n",
        "}\n",
        "\n",
        "try:\n",
        "    user_input = input(\"Please Enter Name of a Key: \")\n",
        "    value = data_dict[user_input]\n",
        "\n",
        "    print(f\"The value is: {value}\")\n",
        "except KeyError:\n",
        "    print(\"Please enter a valid key.\")\n",
        "\n",
        "\n"
      ],
      "metadata": {
        "colab": {
          "base_uri": "https://localhost:8080/"
        },
        "id": "6o-358YsWwp0",
        "outputId": "ba3a4e70-5dac-4cb2-b756-c5bf497557eb"
      },
      "execution_count": null,
      "outputs": [
        {
          "output_type": "stream",
          "name": "stdout",
          "text": [
            "Please Enter Name of a Key: Age\n",
            "Please enter a valid key.\n"
          ]
        }
      ]
    },
    {
      "cell_type": "code",
      "source": [
        "#12.Write a program that demonstrates using multiple except blocks to handle different types of exceptions.\n",
        "while True:\n",
        "    while True:\n",
        "        try:\n",
        "            number1 = int(input(\"Please Enter A Number: \"))\n",
        "            operator = input(\"Please Enter Operator (+, -, *, /): \")\n",
        "            number2 = int(input(\"Please Enter Another Number: \"))\n",
        "\n",
        "            if operator == \"/\" and number2 == 0:\n",
        "                raise ZeroDivisionError\n",
        "            break\n",
        "\n",
        "        except ValueError as e:\n",
        "            print(f\"Please make sure you enter a valid number. {e}\")\n",
        "        except ZeroDivisionError:\n",
        "            print(\"A number cannot be divided by '0'.\")\n",
        "\n",
        "    if operator == \"+\":\n",
        "        print(f\"{number1} + {number2} = {number1 + number2}\")\n",
        "    elif operator == \"-\":\n",
        "        print(f\"{number1} - {number2} = {number1 - number2}\")\n",
        "    elif operator == \"*\":\n",
        "        print(f\"{number1} * {number2} = {number1 * number2}\")\n",
        "    elif operator == \"/\":\n",
        "        print(f\"{number1} / {number2} = {number1 / number2}\")\n",
        "    else:\n",
        "        print(\"Invalid operator.\")\n",
        "\n",
        "\n",
        "    again = input(\"Do you want to calculate again? (yes/no): \").strip().lower()\n",
        "    if again != \"yes\":\n",
        "        print(\"Goodbye!\")\n",
        "        break\n",
        "\n"
      ],
      "metadata": {
        "id": "hYLfeFm4aSjW",
        "colab": {
          "base_uri": "https://localhost:8080/"
        },
        "outputId": "304cbd69-ff2a-4be8-d6d8-33c09215a897"
      },
      "execution_count": null,
      "outputs": [
        {
          "output_type": "stream",
          "name": "stdout",
          "text": [
            "Please Enter A Number: 5\n",
            "Please Enter Operator (+, -, *, /): /\n",
            "Please Enter Another Number: 0\n",
            "A number cannot be divided by '0'.\n",
            "Please Enter A Number: 5\n",
            "Please Enter Operator (+, -, *, /): *\n",
            "Please Enter Another Number: abc\n",
            "Please make sure you enter a valid number. invalid literal for int() with base 10: 'abc'\n",
            "Please Enter A Number: 5\n",
            "Please Enter Operator (+, -, *, /): *\n",
            "Please Enter Another Number: 5\n",
            "5 * 5 = 25\n",
            "Do you want to calculate again? (yes/no): no\n",
            "Goodbye!\n"
          ]
        }
      ]
    },
    {
      "cell_type": "code",
      "source": [
        "#13.How would you check if a file exists before attempting to read it in Python?\n",
        "import os\n",
        "if os.path.exists(\"abc.txt\"):\n",
        "  print(\"Yes File Exist\")\n",
        "else:\n",
        "  print(\"Sadly file dose not exist\")\n",
        "\n",
        "\n"
      ],
      "metadata": {
        "id": "FfV_ek5laS6Z",
        "colab": {
          "base_uri": "https://localhost:8080/"
        },
        "outputId": "8b7fbe01-b3fe-41f5-b433-85eb98bdd272"
      },
      "execution_count": null,
      "outputs": [
        {
          "output_type": "stream",
          "name": "stdout",
          "text": [
            "Sadly file dose not exist\n"
          ]
        }
      ]
    },
    {
      "cell_type": "code",
      "source": [
        "#14.Write a program that uses the logging module to log both informational and error messages.\n",
        "\n",
        "import logging\n",
        "\n",
        "logging.basicConfig(\n",
        "    filename=\"pwskills.log\",\n",
        "    level=logging.DEBUG,\n",
        "    format='%(asctime)s - %(levelname)s - %(message)s'\n",
        ")\n",
        "\n",
        "try:\n",
        "    user_input_1=int(input(\"Please enter a Numerator:\"))\n",
        "    user_input_2=int(input(\"Please enter a Denominator:\"))\n",
        "    print(f\"{user_input_1}/{user_input_2}={user_input_1/user_input_2}\")\n",
        "    logging.info(\"Div Completed Sucssesfully\")\n",
        "except ZeroDivisionError as e:\n",
        "    logging.error(e)\n",
        "    print(e)\n",
        "\n",
        "\n"
      ],
      "metadata": {
        "id": "iF9DnbBdaS9g",
        "colab": {
          "base_uri": "https://localhost:8080/"
        },
        "outputId": "8eeea125-aa98-490d-e6ac-62782f1b9872"
      },
      "execution_count": null,
      "outputs": [
        {
          "output_type": "stream",
          "name": "stdout",
          "text": [
            "Please enter a Numerator:5\n",
            "Please enter a Denominator:4\n",
            "5/4=1.25\n"
          ]
        }
      ]
    },
    {
      "cell_type": "code",
      "source": [
        "#15.Write a Python program that prints the content of a file and handles the case when the file is empty.\n",
        "while True:\n",
        "    try:\n",
        "        user_input = input(\"Please enter the name of the file without extension: \")\n",
        "        with open(f\"{user_input}.txt\", \"r\") as f:\n",
        "            content = f.read()\n",
        "\n",
        "        if not content:\n",
        "            print(\"The file is empty.\")\n",
        "        else:\n",
        "            print(content)\n",
        "        break\n",
        "\n",
        "    except FileNotFoundError:\n",
        "        print(\"File does not exist. Please try again.\")\n"
      ],
      "metadata": {
        "id": "2M0kKq2mbAZx",
        "colab": {
          "base_uri": "https://localhost:8080/"
        },
        "outputId": "48f2efa9-3b76-4a60-d627-541a9d245069"
      },
      "execution_count": null,
      "outputs": [
        {
          "output_type": "stream",
          "name": "stdout",
          "text": [
            "Please enter the name of the file without extension: trial_1\n",
            "The file is empty.\n"
          ]
        }
      ]
    },
    {
      "cell_type": "code",
      "source": [
        "# 16.Demonstrate how to use memory profiling to check the memory usage of a small program."
      ],
      "metadata": {
        "id": "CdPtFlI-1uLz"
      },
      "execution_count": null,
      "outputs": []
    },
    {
      "cell_type": "code",
      "source": [
        "# 17.Write a Python program to create and write a list of numbers to a file, one number per line.\n",
        "user_input = input(\"Please enter a list of numbers separated by space: \").split()\n",
        "with open(\"File_q17.txt\", \"w\") as f:\n",
        "    for number in user_input:\n",
        "        f.write(number + \"\\n\")\n",
        "\n",
        "# Read back the content to confirm\n",
        "with open(\"File_q17.txt\", \"r\") as f:\n",
        "    content = f.read()\n",
        "    print(\"Here is the content in the file:\\n\" + content)\n"
      ],
      "metadata": {
        "colab": {
          "base_uri": "https://localhost:8080/"
        },
        "id": "HiHlJbub15SI",
        "outputId": "a73807aa-90e7-4a13-fb8d-7221b626b531"
      },
      "execution_count": null,
      "outputs": [
        {
          "output_type": "stream",
          "name": "stdout",
          "text": [
            "Please enter a list of numbers separated by space: 1 2 3 4 5 6 7 8 9\n",
            "Here is the content in the file:\n",
            "1\n",
            "2\n",
            "3\n",
            "4\n",
            "5\n",
            "6\n",
            "7\n",
            "8\n",
            "9\n",
            "\n"
          ]
        }
      ]
    },
    {
      "cell_type": "code",
      "source": [
        "# 18.How would you implement a basic logging setup that logs to a file with rotation after 1MB?"
      ],
      "metadata": {
        "id": "jjtH2MVH2BOw"
      },
      "execution_count": null,
      "outputs": []
    },
    {
      "cell_type": "code",
      "source": [
        "# 19.Write a program that handles both IndexError and KeyError using a try-except block.\n",
        "students = [\n",
        "    {\"name\": \"Raj\", \"age\": 20},\n",
        "    {\"name\": \"Yash\", \"age\": 22},\n",
        "    {\"name\": \"Sachin\", \"age\": 19}\n",
        "]\n",
        "try:\n",
        "    user_input_1=int(input(\"Please Enter Index Number You Want to Acsees:\"))\n",
        "    user_input_2=input(\"Please Enter Key Which You Want to Acsees:\")\n",
        "\n",
        "    student=students[user_input_1]\n",
        "    value=student[user_input_2]\n",
        "\n",
        "    print(f\"Value:{value}\")\n",
        "\n",
        "except IndexError:\n",
        "    print(\"Please enter correct index number\")\n",
        "except KeyError:\n",
        "    print(\"Please enter correct Key\")\n"
      ],
      "metadata": {
        "id": "C_ixfvKN3I_X",
        "colab": {
          "base_uri": "https://localhost:8080/"
        },
        "outputId": "32f7dd83-17e3-440a-f6cc-5326db721499"
      },
      "execution_count": null,
      "outputs": [
        {
          "output_type": "stream",
          "name": "stdout",
          "text": [
            "Please Enter Index Number You Want to Acsees:7\n",
            "Please Enter Key Which You Want to Acsees:kakak\n",
            "Please enter correct index number\n"
          ]
        }
      ]
    },
    {
      "cell_type": "code",
      "source": [
        "# 20 How would you open a file and read its contents using a context manager in Python?\n",
        "with open(\"File_q21.txt\",\"r\") as f:\n",
        "  content=f.read()\n",
        "  print(content)"
      ],
      "metadata": {
        "id": "CRQATshl3Sr0",
        "colab": {
          "base_uri": "https://localhost:8080/"
        },
        "outputId": "a54b5dbd-cd32-4131-e34e-ebf10a797c2e"
      },
      "execution_count": null,
      "outputs": [
        {
          "output_type": "stream",
          "name": "stdout",
          "text": [
            "\n",
            "Nobody tells you to buckle up anymore. It isn’t necessary. Everyone just does it. But when seat belts first came along and the government was telling people to to use them, there were very controversial.\n",
            "\n",
            "Why do we protest so much about things that are good for us? The human animals is so full of contradictions it’s hard to keep up with the nonsense we argue about. As Mr. Spock would say, “Humans are not logical.”\n",
            "\n",
            "Please use the open space below to share your first 50 words on the topic “buckle up.”\n"
          ]
        }
      ]
    },
    {
      "cell_type": "code",
      "source": [
        "# 21.Write a Python program that reads a file and prints the number of occurrences of a specific word.\n",
        "user_input = input(\"Please enter a word: \").lower()\n",
        "\n",
        "with open(\"File_q21.txt\", \"r\") as f:\n",
        "    content = f.read().lower()\n",
        "\n",
        "    for ch in [\".\", \",\", \"!\", \"?\", \";\", \":\"]:\n",
        "        content = content.replace(ch, \"\")\n",
        "\n",
        "    words = content.split()\n",
        "    word_count = words.count(user_input)\n",
        "\n",
        "    print(f\"The word '{user_input}' is repeated {word_count} times.\")\n"
      ],
      "metadata": {
        "id": "hGXuAGkF3aMY",
        "colab": {
          "base_uri": "https://localhost:8080/"
        },
        "outputId": "2f8dd38c-55b1-491c-c399-3f2ecd3c7420"
      },
      "execution_count": null,
      "outputs": [
        {
          "output_type": "stream",
          "name": "stdout",
          "text": [
            "Please enter a word: are\n",
            "The word 'are' is repeated 2 times.\n"
          ]
        }
      ]
    },
    {
      "cell_type": "code",
      "source": [
        "# 22.How can you check if a file is empty before attempting to read its contents?\n",
        "with open(\"File_q21.txt\",\"rb\") as f:\n",
        "    f.seek(0,2)\n",
        "    size=f.tell()\n",
        "if size ==0:\n",
        "    print(\"File is Empty\")\n",
        "else:\n",
        "    print(\"File Contains Data\")"
      ],
      "metadata": {
        "id": "RSAto_oA3aF8",
        "colab": {
          "base_uri": "https://localhost:8080/"
        },
        "outputId": "b3ed4a5a-266e-4f4d-cb4c-9695b4ab8e88"
      },
      "execution_count": null,
      "outputs": [
        {
          "output_type": "stream",
          "name": "stdout",
          "text": [
            "File Contains Data\n"
          ]
        }
      ]
    },
    {
      "cell_type": "code",
      "source": [
        "# 23.Write a Python program that writes to a log file when an error occurs during file handling.\n",
        "import logging\n",
        "\n",
        "logging.basicConfig(\n",
        "    filename=\"pwskills.log\",\n",
        "    level=logging.DEBUG,\n",
        "    format='%(asctime)s - %(levelname)s - %(message)s'\n",
        ")\n",
        "\n",
        "try:\n",
        "    user_input = input(\"Please Enter Name of File: \")\n",
        "    with open(user_input, \"r\") as f:\n",
        "        content = f.read()\n",
        "        print(content)\n",
        "except FileNotFoundError:\n",
        "    logging.error(\"Please Enter Valid File Name\")\n",
        "    print(\"Please Enter Valid File Name\")\n"
      ],
      "metadata": {
        "id": "tdwtho4e3Z9H",
        "colab": {
          "base_uri": "https://localhost:8080/"
        },
        "outputId": "6111b0aa-f463-444d-dd68-b77a6a65cea2"
      },
      "execution_count": null,
      "outputs": [
        {
          "name": "stdout",
          "output_type": "stream",
          "text": [
            "Please Enter Name of File: abc\n"
          ]
        },
        {
          "output_type": "stream",
          "name": "stderr",
          "text": [
            "ERROR:root:Please Enter Valid File Name\n"
          ]
        },
        {
          "output_type": "stream",
          "name": "stdout",
          "text": [
            "Please Enter Valid File Name\n"
          ]
        }
      ]
    }
  ]
}